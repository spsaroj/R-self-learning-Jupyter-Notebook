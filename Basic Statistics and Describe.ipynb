{
 "cells": [
  {
   "cell_type": "markdown",
   "metadata": {},
   "source": [
    "# R programming\n",
    "\n",
    "The link for my resource is [Here](https://www.youtube.com/watch?v=_V8eKsto3Ug)"
   ]
  },
  {
   "cell_type": "code",
   "execution_count": 1,
   "metadata": {},
   "outputs": [],
   "source": [
    "library(datasets)"
   ]
  },
  {
   "cell_type": "markdown",
   "metadata": {},
   "source": [
    "Summary function is for describing the numerical summery of a dataset.\n",
    "This can be done in all categorical variable, quantitative variable or the entire data frame."
   ]
  },
  {
   "cell_type": "code",
   "execution_count": 2,
   "metadata": {},
   "outputs": [
    {
     "data": {
      "text/html": [
       "<dl class=dl-horizontal>\n",
       "\t<dt>setosa</dt>\n",
       "\t\t<dd>50</dd>\n",
       "\t<dt>versicolor</dt>\n",
       "\t\t<dd>50</dd>\n",
       "\t<dt>virginica</dt>\n",
       "\t\t<dd>50</dd>\n",
       "</dl>\n"
      ],
      "text/latex": [
       "\\begin{description*}\n",
       "\\item[setosa] 50\n",
       "\\item[versicolor] 50\n",
       "\\item[virginica] 50\n",
       "\\end{description*}\n"
      ],
      "text/markdown": [
       "setosa\n",
       ":   50versicolor\n",
       ":   50virginica\n",
       ":   50\n",
       "\n"
      ],
      "text/plain": [
       "    setosa versicolor  virginica \n",
       "        50         50         50 "
      ]
     },
     "metadata": {},
     "output_type": "display_data"
    },
    {
     "data": {
      "text/plain": [
       "   Min. 1st Qu.  Median    Mean 3rd Qu.    Max. \n",
       "  4.300   5.100   5.800   5.843   6.400   7.900 "
      ]
     },
     "metadata": {},
     "output_type": "display_data"
    }
   ],
   "source": [
    "summary(iris$Species)       # Categorical variable\n",
    "summary(iris$Sepal.Length)  # Quantitative variable"
   ]
  },
  {
   "cell_type": "code",
   "execution_count": 3,
   "metadata": {},
   "outputs": [
    {
     "data": {
      "text/plain": [
       "  Sepal.Length    Sepal.Width     Petal.Length    Petal.Width   \n",
       " Min.   :4.300   Min.   :2.000   Min.   :1.000   Min.   :0.100  \n",
       " 1st Qu.:5.100   1st Qu.:2.800   1st Qu.:1.600   1st Qu.:0.300  \n",
       " Median :5.800   Median :3.000   Median :4.350   Median :1.300  \n",
       " Mean   :5.843   Mean   :3.057   Mean   :3.758   Mean   :1.199  \n",
       " 3rd Qu.:6.400   3rd Qu.:3.300   3rd Qu.:5.100   3rd Qu.:1.800  \n",
       " Max.   :7.900   Max.   :4.400   Max.   :6.900   Max.   :2.500  \n",
       "       Species  \n",
       " setosa    :50  \n",
       " versicolor:50  \n",
       " virginica :50  \n",
       "                \n",
       "                \n",
       "                "
      ]
     },
     "metadata": {},
     "output_type": "display_data"
    }
   ],
   "source": [
    "summary(iris)               # Entire data frame"
   ]
  },
  {
   "cell_type": "markdown",
   "metadata": {},
   "source": [
    "### Describe()\n",
    "Describe() doesn't come already with the original R but needs to be installed using pacman.\n",
    "The required package is psych"
   ]
  },
  {
   "cell_type": "code",
   "execution_count": 6,
   "metadata": {},
   "outputs": [
    {
     "name": "stderr",
     "output_type": "stream",
     "text": [
      "Installing package into 'C:/Users/s527993/Documents/R/win-library/3.6'\n",
      "(as 'lib' is unspecified)\n",
      "Warning message:\n",
      "\"unable to access index for repository http://www.stats.ox.ac.uk/pub/RWin/bin/windows/contrib/3.6:\n",
      "  cannot open URL 'http://www.stats.ox.ac.uk/pub/RWin/bin/windows/contrib/3.6/PACKAGES'\""
     ]
    },
    {
     "name": "stdout",
     "output_type": "stream",
     "text": [
      "package 'XML' successfully unpacked and MD5 sums checked\n",
      "\n",
      "The downloaded binary packages are in\n",
      "\tC:\\Users\\s527993\\AppData\\Local\\Temp\\RtmpEluKYQ\\downloaded_packages\n"
     ]
    },
    {
     "name": "stderr",
     "output_type": "stream",
     "text": [
      "\n",
      "XML installed\n",
      "Warning message:\n",
      "\"package 'XML' was built under R version 3.6.2\""
     ]
    },
    {
     "ename": "ERROR",
     "evalue": "Error: failed to load external entity \"http://stat.ethz.ch/R-manual/R-patched/library/\"\n\n",
     "output_type": "error",
     "traceback": [
      "Error: failed to load external entity \"http://stat.ethz.ch/R-manual/R-patched/library/\"\n\nTraceback:\n",
      "1. p_help(psych)",
      "2. XML::htmlTreeParse(url, useInternalNodes = TRUE)",
      "3. (function (msg, code, domain, line, col, level, filename, class = \"XMLError\") \n . {\n .     e = makeXMLError(msg, code, domain, line, col, level, filename, \n .         class)\n .     dom = names(e$domain)\n .     class(e) = c(names(e$code), sprintf(\"%s_Error\", gsub(\"_FROM_\", \n .         \"_\", dom)), class(e))\n .     if (e$code == xmlParserErrors[\"XML_IO_LOAD_ERROR\"]) \n .         stop(e)\n . })(\"failed to load external entity \\\"http://stat.ethz.ch/R-manual/R-patched/library/\\\"\\n\", \n .     1549L, 8L, 0L, 0L, 1L, character(0))"
     ]
    }
   ],
   "source": [
    "# Installs pacman (\"package manager\") if needed\n",
    "  if (!require(\"pacman\")) install.packages(\"pacman\")\n",
    "\n",
    "# Use pacman to load add-on packages as desired\n",
    "pacman::p_load(pacman, psych) "
   ]
  },
  {
   "cell_type": "markdown",
   "metadata": {},
   "source": [
    "This package is only for quantitative variables."
   ]
  },
  {
   "cell_type": "code",
   "execution_count": null,
   "metadata": {},
   "outputs": [],
   "source": [
    "describe(iris$Sepal.Length)  # One quantitative variable\n",
    "describe(iris)               # Entire data frame"
   ]
  }
 ],
 "metadata": {
  "kernelspec": {
   "display_name": "R",
   "language": "R",
   "name": "ir"
  },
  "language_info": {
   "codemirror_mode": "r",
   "file_extension": ".r",
   "mimetype": "text/x-r-source",
   "name": "R",
   "pygments_lexer": "r",
   "version": "3.6.1"
  }
 },
 "nbformat": 4,
 "nbformat_minor": 4
}
