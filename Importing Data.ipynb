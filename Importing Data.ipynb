{
 "cells": [
  {
   "cell_type": "markdown",
   "metadata": {},
   "source": [
    "# R programming\n",
    "\n",
    "The link for my resource is [Here](https://www.youtube.com/watch?v=_V8eKsto3Ug)"
   ]
  },
  {
   "cell_type": "markdown",
   "metadata": {},
   "source": [
    "### Types of Files\n",
    "\n",
    "* CSV files\n",
    "* txt files\n",
    "* xlsx files\n",
    "* json files\n",
    "\n",
    "\n",
    "#### rio package\n",
    "rio combines all R's import functions into one simple utility.\n",
    "\n",
    "Need to make sure we have the rio package"
   ]
  },
  {
   "cell_type": "markdown",
   "metadata": {},
   "source": [
    "``` variable_name <- import(\"./folder/file.csv\")\n",
    "head(variable_name) ```"
   ]
  },
  {
   "cell_type": "markdown",
   "metadata": {},
   "source": [
    "#### Data Viewer\n",
    "\n",
    "``` View(variable_name) ```"
   ]
  },
  {
   "cell_type": "markdown",
   "metadata": {},
   "source": [
    "#### Built-in function to read a file\n",
    "\n",
    "**If we want to read a .txt file**\n",
    "\n",
    "``` variable_name <- read.table(\"./directory/file.txt\", header = TRUE) ``` , will not work because we need to provide the separator for the data.\n",
    "\n",
    "i.e.\n",
    "``` variable_name <- read.table(\"./directory/file.txt\", \n",
    "  header = TRUE, \n",
    "  sep = \"\\t\")\n",
    "  #separated by a tab '\\t' ```"
   ]
  },
  {
   "cell_type": "markdown",
   "metadata": {},
   "source": [
    "**For csv file, we do not need a separator i.e. sep = \"\".**\n",
    "\n",
    "``` variable_name <- read.csv(\"./directory/file.csv\", header = TRUE) ```\n"
   ]
  }
 ],
 "metadata": {
  "kernelspec": {
   "display_name": "R",
   "language": "R",
   "name": "ir"
  },
  "language_info": {
   "codemirror_mode": "r",
   "file_extension": ".r",
   "mimetype": "text/x-r-source",
   "name": "R",
   "pygments_lexer": "r",
   "version": "3.6.1"
  }
 },
 "nbformat": 4,
 "nbformat_minor": 4
}
