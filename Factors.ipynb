{
 "cells": [
  {
   "cell_type": "markdown",
   "metadata": {},
   "source": [
    "# R programming\n",
    "\n",
    "The link for my resource is [Here](https://www.youtube.com/watch?v=_V8eKsto3Ug)"
   ]
  },
  {
   "cell_type": "markdown",
   "metadata": {},
   "source": [
    "## Factors\n",
    "this topic might be useful depending on what we do.\n",
    "This have to do with categories and names.\n",
    "\n",
    "An attribure of a vector that specifies the possible values and their order.\n",
    "\n",
    "This is the [data structure to handle the categorical variables](https://www.youtube.com/watch?v=xkRBfy8_2MU). Please watch this [video](https://www.youtube.com/watch?v=xkRBfy8_2MU)\n"
   ]
  },
  {
   "cell_type": "code",
   "execution_count": 3,
   "metadata": {},
   "outputs": [
    {
     "data": {
      "text/html": [
       "<ol class=list-inline>\n",
       "\t<li>1</li>\n",
       "\t<li>2</li>\n",
       "\t<li>3</li>\n",
       "</ol>\n"
      ],
      "text/latex": [
       "\\begin{enumerate*}\n",
       "\\item 1\n",
       "\\item 2\n",
       "\\item 3\n",
       "\\end{enumerate*}\n"
      ],
      "text/markdown": [
       "1. 1\n",
       "2. 2\n",
       "3. 3\n",
       "\n",
       "\n"
      ],
      "text/plain": [
       "[1] 1 2 3"
      ]
     },
     "metadata": {},
     "output_type": "display_data"
    },
    {
     "data": {
      "text/html": [
       "<ol class=list-inline>\n",
       "\t<li>1</li>\n",
       "\t<li>2</li>\n",
       "\t<li>3</li>\n",
       "\t<li>4</li>\n",
       "\t<li>5</li>\n",
       "\t<li>6</li>\n",
       "\t<li>7</li>\n",
       "\t<li>8</li>\n",
       "\t<li>9</li>\n",
       "</ol>\n"
      ],
      "text/latex": [
       "\\begin{enumerate*}\n",
       "\\item 1\n",
       "\\item 2\n",
       "\\item 3\n",
       "\\item 4\n",
       "\\item 5\n",
       "\\item 6\n",
       "\\item 7\n",
       "\\item 8\n",
       "\\item 9\n",
       "\\end{enumerate*}\n"
      ],
      "text/markdown": [
       "1. 1\n",
       "2. 2\n",
       "3. 3\n",
       "4. 4\n",
       "5. 5\n",
       "6. 6\n",
       "7. 7\n",
       "8. 8\n",
       "9. 9\n",
       "\n",
       "\n"
      ],
      "text/plain": [
       "[1] 1 2 3 4 5 6 7 8 9"
      ]
     },
     "metadata": {},
     "output_type": "display_data"
    },
    {
     "data": {
      "text/html": [
       "<table>\n",
       "<thead><tr><th scope=col>x1</th><th scope=col>y</th></tr></thead>\n",
       "<tbody>\n",
       "\t<tr><td>1</td><td>1</td></tr>\n",
       "\t<tr><td>2</td><td>2</td></tr>\n",
       "\t<tr><td>3</td><td>3</td></tr>\n",
       "\t<tr><td>1</td><td>4</td></tr>\n",
       "\t<tr><td>2</td><td>5</td></tr>\n",
       "\t<tr><td>3</td><td>6</td></tr>\n",
       "\t<tr><td>1</td><td>7</td></tr>\n",
       "\t<tr><td>2</td><td>8</td></tr>\n",
       "\t<tr><td>3</td><td>9</td></tr>\n",
       "</tbody>\n",
       "</table>\n"
      ],
      "text/latex": [
       "\\begin{tabular}{r|ll}\n",
       " x1 & y\\\\\n",
       "\\hline\n",
       "\t 1 & 1\\\\\n",
       "\t 2 & 2\\\\\n",
       "\t 3 & 3\\\\\n",
       "\t 1 & 4\\\\\n",
       "\t 2 & 5\\\\\n",
       "\t 3 & 6\\\\\n",
       "\t 1 & 7\\\\\n",
       "\t 2 & 8\\\\\n",
       "\t 3 & 9\\\\\n",
       "\\end{tabular}\n"
      ],
      "text/markdown": [
       "\n",
       "| x1 | y |\n",
       "|---|---|\n",
       "| 1 | 1 |\n",
       "| 2 | 2 |\n",
       "| 3 | 3 |\n",
       "| 1 | 4 |\n",
       "| 2 | 5 |\n",
       "| 3 | 6 |\n",
       "| 1 | 7 |\n",
       "| 2 | 8 |\n",
       "| 3 | 9 |\n",
       "\n"
      ],
      "text/plain": [
       "  x1 y\n",
       "1 1  1\n",
       "2 2  2\n",
       "3 3  3\n",
       "4 1  4\n",
       "5 2  5\n",
       "6 3  6\n",
       "7 1  7\n",
       "8 2  8\n",
       "9 3  9"
      ]
     },
     "metadata": {},
     "output_type": "display_data"
    },
    {
     "data": {
      "text/html": [
       "'integer'"
      ],
      "text/latex": [
       "'integer'"
      ],
      "text/markdown": [
       "'integer'"
      ],
      "text/plain": [
       "[1] \"integer\""
      ]
     },
     "metadata": {},
     "output_type": "display_data"
    },
    {
     "name": "stdout",
     "output_type": "stream",
     "text": [
      "'data.frame':\t9 obs. of  2 variables:\n",
      " $ x1: int  1 2 3 1 2 3 1 2 3\n",
      " $ y : int  1 2 3 4 5 6 7 8 9\n"
     ]
    }
   ],
   "source": [
    "(x1 <- 1:3)\n",
    "(y  <- 1:9)\n",
    "\n",
    "(df1 <- cbind.data.frame(x1, y))  #cbind is combine\n",
    "typeof(df1$x1)\n",
    "str(df1)"
   ]
  },
  {
   "cell_type": "code",
   "execution_count": 4,
   "metadata": {},
   "outputs": [
    {
     "data": {
      "text/html": [
       "<ol class=list-inline>\n",
       "\t<li>1</li>\n",
       "\t<li>2</li>\n",
       "\t<li>3</li>\n",
       "</ol>\n",
       "\n",
       "<details>\n",
       "\t<summary style=display:list-item;cursor:pointer>\n",
       "\t\t<strong>Levels</strong>:\n",
       "\t</summary>\n",
       "\t<ol class=list-inline>\n",
       "\t\t<li>'1'</li>\n",
       "\t\t<li>'2'</li>\n",
       "\t\t<li>'3'</li>\n",
       "\t</ol>\n",
       "</details>"
      ],
      "text/latex": [
       "\\begin{enumerate*}\n",
       "\\item 1\n",
       "\\item 2\n",
       "\\item 3\n",
       "\\end{enumerate*}\n",
       "\n",
       "\\emph{Levels}: \\begin{enumerate*}\n",
       "\\item '1'\n",
       "\\item '2'\n",
       "\\item '3'\n",
       "\\end{enumerate*}\n"
      ],
      "text/markdown": [
       "1. 1\n",
       "2. 2\n",
       "3. 3\n",
       "\n",
       "\n",
       "\n",
       "**Levels**: 1. '1'\n",
       "2. '2'\n",
       "3. '3'\n",
       "\n",
       "\n"
      ],
      "text/plain": [
       "[1] 1 2 3\n",
       "Levels: 1 2 3"
      ]
     },
     "metadata": {},
     "output_type": "display_data"
    },
    {
     "data": {
      "text/html": [
       "<table>\n",
       "<thead><tr><th scope=col>x2</th><th scope=col>y</th></tr></thead>\n",
       "<tbody>\n",
       "\t<tr><td>1</td><td>1</td></tr>\n",
       "\t<tr><td>2</td><td>2</td></tr>\n",
       "\t<tr><td>3</td><td>3</td></tr>\n",
       "\t<tr><td>1</td><td>4</td></tr>\n",
       "\t<tr><td>2</td><td>5</td></tr>\n",
       "\t<tr><td>3</td><td>6</td></tr>\n",
       "\t<tr><td>1</td><td>7</td></tr>\n",
       "\t<tr><td>2</td><td>8</td></tr>\n",
       "\t<tr><td>3</td><td>9</td></tr>\n",
       "</tbody>\n",
       "</table>\n"
      ],
      "text/latex": [
       "\\begin{tabular}{r|ll}\n",
       " x2 & y\\\\\n",
       "\\hline\n",
       "\t 1 & 1\\\\\n",
       "\t 2 & 2\\\\\n",
       "\t 3 & 3\\\\\n",
       "\t 1 & 4\\\\\n",
       "\t 2 & 5\\\\\n",
       "\t 3 & 6\\\\\n",
       "\t 1 & 7\\\\\n",
       "\t 2 & 8\\\\\n",
       "\t 3 & 9\\\\\n",
       "\\end{tabular}\n"
      ],
      "text/markdown": [
       "\n",
       "| x2 | y |\n",
       "|---|---|\n",
       "| 1 | 1 |\n",
       "| 2 | 2 |\n",
       "| 3 | 3 |\n",
       "| 1 | 4 |\n",
       "| 2 | 5 |\n",
       "| 3 | 6 |\n",
       "| 1 | 7 |\n",
       "| 2 | 8 |\n",
       "| 3 | 9 |\n",
       "\n"
      ],
      "text/plain": [
       "  x2 y\n",
       "1 1  1\n",
       "2 2  2\n",
       "3 3  3\n",
       "4 1  4\n",
       "5 2  5\n",
       "6 3  6\n",
       "7 1  7\n",
       "8 2  8\n",
       "9 3  9"
      ]
     },
     "metadata": {},
     "output_type": "display_data"
    },
    {
     "data": {
      "text/html": [
       "'integer'"
      ],
      "text/latex": [
       "'integer'"
      ],
      "text/markdown": [
       "'integer'"
      ],
      "text/plain": [
       "[1] \"integer\""
      ]
     },
     "metadata": {},
     "output_type": "display_data"
    },
    {
     "name": "stdout",
     "output_type": "stream",
     "text": [
      "'data.frame':\t9 obs. of  2 variables:\n",
      " $ x2: Factor w/ 3 levels \"1\",\"2\",\"3\": 1 2 3 1 2 3 1 2 3\n",
      " $ y : int  1 2 3 4 5 6 7 8 9\n"
     ]
    }
   ],
   "source": [
    "# This will still look the same as the previous but in str(df2), it will show the different result.\n",
    "(x2  <- as.factor(c(1:3)))\n",
    "(df2 <- cbind.data.frame(x2, y))\n",
    "typeof(df2$x2)\n",
    "str(df2)"
   ]
  },
  {
   "cell_type": "code",
   "execution_count": 8,
   "metadata": {
    "scrolled": true
   },
   "outputs": [
    {
     "data": {
      "text/html": [
       "<ol class=list-inline>\n",
       "\t<li>1</li>\n",
       "\t<li>2</li>\n",
       "\t<li>3</li>\n",
       "</ol>\n"
      ],
      "text/latex": [
       "\\begin{enumerate*}\n",
       "\\item 1\n",
       "\\item 2\n",
       "\\item 3\n",
       "\\end{enumerate*}\n"
      ],
      "text/markdown": [
       "1. 1\n",
       "2. 2\n",
       "3. 3\n",
       "\n",
       "\n"
      ],
      "text/plain": [
       "[1] 1 2 3"
      ]
     },
     "metadata": {},
     "output_type": "display_data"
    },
    {
     "data": {
      "text/html": [
       "<ol class=list-inline>\n",
       "\t<li>1</li>\n",
       "\t<li>2</li>\n",
       "\t<li>3</li>\n",
       "\t<li>1</li>\n",
       "\t<li>2</li>\n",
       "\t<li>3</li>\n",
       "\t<li>1</li>\n",
       "\t<li>2</li>\n",
       "\t<li>3</li>\n",
       "</ol>\n",
       "\n",
       "<details>\n",
       "\t<summary style=display:list-item;cursor:pointer>\n",
       "\t\t<strong>Levels</strong>:\n",
       "\t</summary>\n",
       "\t<ol class=list-inline>\n",
       "\t\t<li>'1'</li>\n",
       "\t\t<li>'2'</li>\n",
       "\t\t<li>'3'</li>\n",
       "\t</ol>\n",
       "</details>"
      ],
      "text/latex": [
       "\\begin{enumerate*}\n",
       "\\item 1\n",
       "\\item 2\n",
       "\\item 3\n",
       "\\item 1\n",
       "\\item 2\n",
       "\\item 3\n",
       "\\item 1\n",
       "\\item 2\n",
       "\\item 3\n",
       "\\end{enumerate*}\n",
       "\n",
       "\\emph{Levels}: \\begin{enumerate*}\n",
       "\\item '1'\n",
       "\\item '2'\n",
       "\\item '3'\n",
       "\\end{enumerate*}\n"
      ],
      "text/markdown": [
       "1. 1\n",
       "2. 2\n",
       "3. 3\n",
       "4. 1\n",
       "5. 2\n",
       "6. 3\n",
       "7. 1\n",
       "8. 2\n",
       "9. 3\n",
       "\n",
       "\n",
       "\n",
       "**Levels**: 1. '1'\n",
       "2. '2'\n",
       "3. '3'\n",
       "\n",
       "\n"
      ],
      "text/plain": [
       "[1] 1 2 3 1 2 3 1 2 3\n",
       "Levels: 1 2 3"
      ]
     },
     "metadata": {},
     "output_type": "display_data"
    },
    {
     "data": {
      "text/html": [
       "'integer'"
      ],
      "text/latex": [
       "'integer'"
      ],
      "text/markdown": [
       "'integer'"
      ],
      "text/plain": [
       "[1] \"integer\""
      ]
     },
     "metadata": {},
     "output_type": "display_data"
    },
    {
     "name": "stdout",
     "output_type": "stream",
     "text": [
      "'data.frame':\t9 obs. of  2 variables:\n",
      " $ x3: Factor w/ 3 levels \"1\",\"2\",\"3\": 1 2 3 1 2 3 1 2 3\n",
      " $ y : int  1 2 3 4 5 6 7 8 9\n"
     ]
    }
   ],
   "source": [
    "# DEFINE EXISTING VARIABLE AS FACTOR #######################\n",
    "\n",
    "(x3  <- c(1:3))\n",
    "df3 <- cbind.data.frame(x3, y)\n",
    "(df3$x3 <- factor(df3$x3,\n",
    "  levels = c(1, 2, 3)))\n",
    "typeof(df3$x3)\n",
    "str(df3)"
   ]
  },
  {
   "cell_type": "code",
   "execution_count": 10,
   "metadata": {},
   "outputs": [
    {
     "data": {
      "text/html": [
       "<table>\n",
       "<thead><tr><th scope=col>x4</th><th scope=col>y</th></tr></thead>\n",
       "<tbody>\n",
       "\t<tr><td>macOS  </td><td>1      </td></tr>\n",
       "\t<tr><td>Windows</td><td>2      </td></tr>\n",
       "\t<tr><td>Linux  </td><td>3      </td></tr>\n",
       "\t<tr><td>macOS  </td><td>4      </td></tr>\n",
       "\t<tr><td>Windows</td><td>5      </td></tr>\n",
       "\t<tr><td>Linux  </td><td>6      </td></tr>\n",
       "\t<tr><td>macOS  </td><td>7      </td></tr>\n",
       "\t<tr><td>Windows</td><td>8      </td></tr>\n",
       "\t<tr><td>Linux  </td><td>9      </td></tr>\n",
       "</tbody>\n",
       "</table>\n"
      ],
      "text/latex": [
       "\\begin{tabular}{r|ll}\n",
       " x4 & y\\\\\n",
       "\\hline\n",
       "\t macOS   & 1      \\\\\n",
       "\t Windows & 2      \\\\\n",
       "\t Linux   & 3      \\\\\n",
       "\t macOS   & 4      \\\\\n",
       "\t Windows & 5      \\\\\n",
       "\t Linux   & 6      \\\\\n",
       "\t macOS   & 7      \\\\\n",
       "\t Windows & 8      \\\\\n",
       "\t Linux   & 9      \\\\\n",
       "\\end{tabular}\n"
      ],
      "text/markdown": [
       "\n",
       "| x4 | y |\n",
       "|---|---|\n",
       "| macOS   | 1       |\n",
       "| Windows | 2       |\n",
       "| Linux   | 3       |\n",
       "| macOS   | 4       |\n",
       "| Windows | 5       |\n",
       "| Linux   | 6       |\n",
       "| macOS   | 7       |\n",
       "| Windows | 8       |\n",
       "| Linux   | 9       |\n",
       "\n"
      ],
      "text/plain": [
       "  x4      y\n",
       "1 macOS   1\n",
       "2 Windows 2\n",
       "3 Linux   3\n",
       "4 macOS   4\n",
       "5 Windows 5\n",
       "6 Linux   6\n",
       "7 macOS   7\n",
       "8 Windows 8\n",
       "9 Linux   9"
      ]
     },
     "metadata": {},
     "output_type": "display_data"
    },
    {
     "data": {
      "text/html": [
       "'integer'"
      ],
      "text/latex": [
       "'integer'"
      ],
      "text/markdown": [
       "'integer'"
      ],
      "text/plain": [
       "[1] \"integer\""
      ]
     },
     "metadata": {},
     "output_type": "display_data"
    },
    {
     "name": "stdout",
     "output_type": "stream",
     "text": [
      "'data.frame':\t9 obs. of  2 variables:\n",
      " $ x4: Factor w/ 3 levels \"macOS\",\"Windows\",..: 1 2 3 1 2 3 1 2 3\n",
      " $ y : int  1 2 3 4 5 6 7 8 9\n"
     ]
    }
   ],
   "source": [
    "# LABELS FOR FACTOR ########################################\n",
    "\n",
    "x4  <- c(1:3)\n",
    "df4 <- cbind.data.frame(x4, y)\n",
    "df4$x4 <- factor(df4$x4,\n",
    "  levels = c(1, 2, 3),\n",
    "  labels = c(\"macOS\", \"Windows\", \"Linux\"))\n",
    "df4\n",
    "typeof(df4$x4)   # the type of still shows integer as a type\n",
    "str(df4)"
   ]
  },
  {
   "cell_type": "code",
   "execution_count": 12,
   "metadata": {},
   "outputs": [
    {
     "data": {
      "text/html": [
       "<table>\n",
       "<thead><tr><th scope=col>x5</th><th scope=col>y</th></tr></thead>\n",
       "<tbody>\n",
       "\t<tr><td>1</td><td>1</td></tr>\n",
       "\t<tr><td>2</td><td>2</td></tr>\n",
       "\t<tr><td>3</td><td>3</td></tr>\n",
       "\t<tr><td>1</td><td>4</td></tr>\n",
       "\t<tr><td>2</td><td>5</td></tr>\n",
       "\t<tr><td>3</td><td>6</td></tr>\n",
       "\t<tr><td>1</td><td>7</td></tr>\n",
       "\t<tr><td>2</td><td>8</td></tr>\n",
       "\t<tr><td>3</td><td>9</td></tr>\n",
       "</tbody>\n",
       "</table>\n"
      ],
      "text/latex": [
       "\\begin{tabular}{r|ll}\n",
       " x5 & y\\\\\n",
       "\\hline\n",
       "\t 1 & 1\\\\\n",
       "\t 2 & 2\\\\\n",
       "\t 3 & 3\\\\\n",
       "\t 1 & 4\\\\\n",
       "\t 2 & 5\\\\\n",
       "\t 3 & 6\\\\\n",
       "\t 1 & 7\\\\\n",
       "\t 2 & 8\\\\\n",
       "\t 3 & 9\\\\\n",
       "\\end{tabular}\n"
      ],
      "text/markdown": [
       "\n",
       "| x5 | y |\n",
       "|---|---|\n",
       "| 1 | 1 |\n",
       "| 2 | 2 |\n",
       "| 3 | 3 |\n",
       "| 1 | 4 |\n",
       "| 2 | 5 |\n",
       "| 3 | 6 |\n",
       "| 1 | 7 |\n",
       "| 2 | 8 |\n",
       "| 3 | 9 |\n",
       "\n"
      ],
      "text/plain": [
       "  x5 y\n",
       "1 1  1\n",
       "2 2  2\n",
       "3 3  3\n",
       "4 1  4\n",
       "5 2  5\n",
       "6 3  6\n",
       "7 1  7\n",
       "8 2  8\n",
       "9 3  9"
      ]
     },
     "metadata": {},
     "output_type": "display_data"
    },
    {
     "data": {
      "text/html": [
       "<ol class=list-inline>\n",
       "\t<li>Maybe</li>\n",
       "\t<li>Yes</li>\n",
       "\t<li>No</li>\n",
       "\t<li>Maybe</li>\n",
       "\t<li>Yes</li>\n",
       "\t<li>No</li>\n",
       "\t<li>Maybe</li>\n",
       "\t<li>Yes</li>\n",
       "\t<li>No</li>\n",
       "</ol>\n",
       "\n",
       "<details>\n",
       "\t<summary style=display:list-item;cursor:pointer>\n",
       "\t\t<strong>Levels</strong>:\n",
       "\t</summary>\n",
       "\t<ol class=list-inline>\n",
       "\t\t<li>'No'</li>\n",
       "\t\t<li>'Maybe'</li>\n",
       "\t\t<li>'Yes'</li>\n",
       "\t</ol>\n",
       "</details>"
      ],
      "text/latex": [
       "\\begin{enumerate*}\n",
       "\\item Maybe\n",
       "\\item Yes\n",
       "\\item No\n",
       "\\item Maybe\n",
       "\\item Yes\n",
       "\\item No\n",
       "\\item Maybe\n",
       "\\item Yes\n",
       "\\item No\n",
       "\\end{enumerate*}\n",
       "\n",
       "\\emph{Levels}: \\begin{enumerate*}\n",
       "\\item 'No'\n",
       "\\item 'Maybe'\n",
       "\\item 'Yes'\n",
       "\\end{enumerate*}\n"
      ],
      "text/markdown": [
       "1. Maybe\n",
       "2. Yes\n",
       "3. No\n",
       "4. Maybe\n",
       "5. Yes\n",
       "6. No\n",
       "7. Maybe\n",
       "8. Yes\n",
       "9. No\n",
       "\n",
       "\n",
       "\n",
       "**Levels**: 1. 'No'\n",
       "2. 'Maybe'\n",
       "3. 'Yes'\n",
       "\n",
       "\n"
      ],
      "text/plain": [
       "[1] Maybe Yes   No    Maybe Yes   No    Maybe Yes   No   \n",
       "Levels: No < Maybe < Yes"
      ]
     },
     "metadata": {},
     "output_type": "display_data"
    },
    {
     "data": {
      "text/html": [
       "<table>\n",
       "<thead><tr><th scope=col>x5</th><th scope=col>y</th></tr></thead>\n",
       "<tbody>\n",
       "\t<tr><td>Maybe</td><td>1    </td></tr>\n",
       "\t<tr><td>Yes  </td><td>2    </td></tr>\n",
       "\t<tr><td>No   </td><td>3    </td></tr>\n",
       "\t<tr><td>Maybe</td><td>4    </td></tr>\n",
       "\t<tr><td>Yes  </td><td>5    </td></tr>\n",
       "\t<tr><td>No   </td><td>6    </td></tr>\n",
       "\t<tr><td>Maybe</td><td>7    </td></tr>\n",
       "\t<tr><td>Yes  </td><td>8    </td></tr>\n",
       "\t<tr><td>No   </td><td>9    </td></tr>\n",
       "</tbody>\n",
       "</table>\n"
      ],
      "text/latex": [
       "\\begin{tabular}{r|ll}\n",
       " x5 & y\\\\\n",
       "\\hline\n",
       "\t Maybe & 1    \\\\\n",
       "\t Yes   & 2    \\\\\n",
       "\t No    & 3    \\\\\n",
       "\t Maybe & 4    \\\\\n",
       "\t Yes   & 5    \\\\\n",
       "\t No    & 6    \\\\\n",
       "\t Maybe & 7    \\\\\n",
       "\t Yes   & 8    \\\\\n",
       "\t No    & 9    \\\\\n",
       "\\end{tabular}\n"
      ],
      "text/markdown": [
       "\n",
       "| x5 | y |\n",
       "|---|---|\n",
       "| Maybe | 1     |\n",
       "| Yes   | 2     |\n",
       "| No    | 3     |\n",
       "| Maybe | 4     |\n",
       "| Yes   | 5     |\n",
       "| No    | 6     |\n",
       "| Maybe | 7     |\n",
       "| Yes   | 8     |\n",
       "| No    | 9     |\n",
       "\n"
      ],
      "text/plain": [
       "  x5    y\n",
       "1 Maybe 1\n",
       "2 Yes   2\n",
       "3 No    3\n",
       "4 Maybe 4\n",
       "5 Yes   5\n",
       "6 No    6\n",
       "7 Maybe 7\n",
       "8 Yes   8\n",
       "9 No    9"
      ]
     },
     "metadata": {},
     "output_type": "display_data"
    },
    {
     "data": {
      "text/html": [
       "'integer'"
      ],
      "text/latex": [
       "'integer'"
      ],
      "text/markdown": [
       "'integer'"
      ],
      "text/plain": [
       "[1] \"integer\""
      ]
     },
     "metadata": {},
     "output_type": "display_data"
    },
    {
     "name": "stdout",
     "output_type": "stream",
     "text": [
      "'data.frame':\t9 obs. of  2 variables:\n",
      " $ x5: Ord.factor w/ 3 levels \"No\"<\"Maybe\"<\"Yes\": 2 3 1 2 3 1 2 3 1\n",
      " $ y : int  1 2 3 4 5 6 7 8 9\n"
     ]
    }
   ],
   "source": [
    "# ORDERED FACTORS AND LABELS ###############################\n",
    "\n",
    "x5  <- c(1:3)\n",
    "(df5 <- cbind.data.frame(x5, y))\n",
    "(df5$x5 <- ordered(df5$x5,\n",
    "  levels = c(3, 1, 2),\n",
    "  labels = c(\"No\", \"Maybe\", \"Yes\")))\n",
    "df5\n",
    "typeof(df5$x5)\n",
    "str(df5)"
   ]
  },
  {
   "cell_type": "markdown",
   "metadata": {},
   "source": [
    "This is very important in experimental research"
   ]
  }
 ],
 "metadata": {
  "kernelspec": {
   "display_name": "R",
   "language": "R",
   "name": "ir"
  },
  "language_info": {
   "codemirror_mode": "r",
   "file_extension": ".r",
   "mimetype": "text/x-r-source",
   "name": "R",
   "pygments_lexer": "r",
   "version": "3.6.1"
  }
 },
 "nbformat": 4,
 "nbformat_minor": 4
}
